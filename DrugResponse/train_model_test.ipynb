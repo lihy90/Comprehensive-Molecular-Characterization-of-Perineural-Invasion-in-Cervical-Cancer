{
 "cells": [
  {
   "cell_type": "code",
   "execution_count": 2,
   "id": "f7d163c1-08ec-44e5-9a36-25e91ea1ea24",
   "metadata": {},
   "outputs": [],
   "source": [
    "import pandas as pd\n",
    "import tensorflow as tf\n",
    "from keras import optimizers\n",
    "from keras.layers import Input, Dense, Dropout, Lambda, Concatenate\n",
    "from keras.models import Model, Sequential\n",
    "from keras.utils import multi_gpu_model\n",
    "from keras.callbacks import ModelCheckpoint, ReduceLROnPlateau\n",
    "from keras import backend as K\n",
    "import numpy as np\n",
    "from sklearn.linear_model import LinearRegression\n",
    "preprocessed_info_df=pd.read_csv('preprocessed_info.csv')\n",
    "preprocessed_info_df=preprocessed_info_df.drop(['Unnamed: 0_x'], axis=1)\n",
    "preprocessed_info_df=preprocessed_info_df.drop(['Unnamed: 0_y'], axis=1)\n",
    "preprocessed_info_df=preprocessed_info_df.drop(['Unnamed: 0'], axis=1)\n",
    "preprocessed_info_df=preprocessed_info_df.drop_duplicates(subset=['cell_line','smiles'])\n",
    "preprocessed_info_df=preprocessed_info_df.reset_index(drop=True)\n",
    "drug_set1=preprocessed_info_df['smiles'].value_counts()[np.where(preprocessed_info_df['smiles'].value_counts()>=50)[0]].index\n",
    "train_dat=preprocessed_info_df.groupby('smiles').sample(frac=0.8)\n",
    "test_dat=preprocessed_info_df.drop(train_dat.index)\n",
    "val_dat=test_dat.groupby('smiles').sample(frac=0.5)"
   ]
  },
  {
   "cell_type": "code",
   "execution_count": 6,
   "id": "cc2450fe-7dcf-45c9-b237-294d85c610b7",
   "metadata": {},
   "outputs": [
    {
     "data": {
      "text/plain": [
       "COc1cc2c(Oc3ccc(NC(=O)C4(C(=O)Nc5ccc(F)cc5)CC4)cc3F)ccnc2cc1OCCCN1CCOCC1    643\n",
       "C1CN(CCN1)c1ccc(cc1)-c1cnc2c(cnn2c1)-c1ccnc2ccccc12                         636\n",
       "O=C(CCCCCCC(=O)Nc1ccccc1)NO                                                 604\n",
       "O=C(/C=C/c1ccc(CN(CCO)CCc2c[nH]c3ccccc23)cc1)NO                             590\n",
       "Cc1[nH]c2ccccc2c1CCNCc1ccc(/C=C/C(=O)NO)cc1                                 587\n",
       "                                                                           ... \n",
       "COc1nc(C)cnc1NS(=O)(=O)c1cccnc1-c1ccc(-c2nnco2)cc1                            1\n",
       "CC(=O)[C@@H](C#N)C(=O)Nc1cc(Br)ccc1Br                                         1\n",
       "O=NN(CCCl)C(=O)NCCCl                                                          1\n",
       "C[C@]1(c2nc3cccc(C(N)=O)c3[nH]2)CCCN1                                         1\n",
       "CC(O)(CS(=O)(=O)c1ccc(F)cc1)C(=O)Nc1ccc(C#N)c(C(F)(F)F)c1                     1\n",
       "Name: smiles, Length: 237, dtype: int64"
      ]
     },
     "execution_count": 6,
     "metadata": {},
     "output_type": "execute_result"
    }
   ],
   "source": [
    "preprocessed_info_df['smiles'].value_counts()"
   ]
  },
  {
   "cell_type": "code",
   "execution_count": 33,
   "id": "2738447e-916c-46b9-869f-8728c5a7b0b5",
   "metadata": {},
   "outputs": [],
   "source": [
    "drug_latent_n=56\n",
    "cell_line_latent_n=50\n",
    "train_x=np.array(train_dat.iloc[:,4:(4+drug_latent_n+cell_line_latent_n)])\n",
    "test_x=np.array(test_dat.iloc[:,4:(4+drug_latent_n+cell_line_latent_n)])\n",
    "val_x=np.array(val_dat.iloc[:,4:(4+drug_latent_n+cell_line_latent_n)])\n",
    "train_y=np.array(train_dat.iloc[:,2])\n",
    "test_y=np.array(test_dat.iloc[:,2])\n",
    "val_y=np.array(val_dat.iloc[:,2])"
   ]
  },
  {
   "cell_type": "code",
   "execution_count": 34,
   "id": "2adba9ca-691b-47b1-ba35-33955d365c2e",
   "metadata": {},
   "outputs": [
    {
     "name": "stdout",
     "output_type": "stream",
     "text": [
      "[[1.         0.73355263]\n",
      " [0.73355263 1.        ]]\n"
     ]
    }
   ],
   "source": [
    "reg = LinearRegression().fit(train_x, train_y)\n",
    "test_pred_y=reg.predict(test_x)\n",
    "\n",
    "print(np.corrcoef(test_pred_y,test_y))\n"
   ]
  },
  {
   "cell_type": "code",
   "execution_count": 35,
   "id": "4f8455ce-6592-4a15-87f6-7dfeae4762dc",
   "metadata": {},
   "outputs": [
    {
     "name": "stdout",
     "output_type": "stream",
     "text": [
      "WARNING:tensorflow:From D:\\conda\\envs\\py37\\lib\\site-packages\\keras\\backend\\tensorflow_backend.py:422: The name tf.global_variables is deprecated. Please use tf.compat.v1.global_variables instead.\n",
      "\n",
      "Train on 29615 samples, validate on 3697 samples\n",
      "Epoch 1/10\n",
      " - 28s - loss: 8.9422 - val_loss: 4.4778\n",
      "Epoch 2/10\n",
      " - 28s - loss: 4.1620 - val_loss: 3.3838\n",
      "Epoch 3/10\n",
      " - 28s - loss: 3.0265 - val_loss: 2.7370\n",
      "Epoch 4/10\n",
      " - 28s - loss: 2.6626 - val_loss: 2.1271\n",
      "Epoch 5/10\n",
      " - 28s - loss: 2.4890 - val_loss: 2.4582\n",
      "Epoch 6/10\n",
      " - 28s - loss: 2.3795 - val_loss: 2.0932\n",
      "Epoch 7/10\n",
      " - 28s - loss: 2.3044 - val_loss: 2.0193\n",
      "Epoch 8/10\n",
      " - 28s - loss: 2.2088 - val_loss: 1.9678\n",
      "Epoch 9/10\n",
      " - 28s - loss: 2.1649 - val_loss: 2.0017\n",
      "Epoch 10/10\n",
      " - 28s - loss: 2.1510 - val_loss: 1.9677\n",
      "[[1.         0.92668173]\n",
      " [0.92668173 1.        ]]\n",
      "[[1.         0.92415155]\n",
      " [0.92415155 1.        ]]\n"
     ]
    }
   ],
   "source": [
    "input1=Input(shape=(drug_latent_n+cell_line_latent_n,))\n",
    "x= Dense(2048,activation='relu')(input1)\n",
    "x = Dropout(0.2)(x)\n",
    "x = Dense(2048,activation='relu')(x)\n",
    "x = Dropout(0.2)(x)\n",
    "x = Dense(2048,activation='sigmoid')(x)\n",
    "x = Dropout(0.2)(x)\n",
    "IC50_val = Dense(1,activation='linear')(x)\n",
    "model = Model(inputs = input1, outputs = IC50_val)\n",
    "reduce_lr = ReduceLROnPlateau(monitor = 'val_loss',\n",
    "                                  factor = 0.2,\n",
    "                                  patience = 6,\n",
    "                                  min_lr = 0.0001)\n",
    "early_stop=tf.keras.callbacks.EarlyStopping(monitor='val_loss', mode='min',restore_best_weights=True,patience=10)        \n",
    "sgd = optimizers.SGD(lr=0.1, decay=0, momentum=0.9, nesterov=True)\n",
    "rms = optimizers.RMSprop(lr=0.001, rho=0.9, epsilon=None, decay=0.0)\n",
    "ada = optimizers.Adagrad(lr=0.01, epsilon=None, decay=0.0)\n",
    "adaD = optimizers.Adadelta(lr=1.0, rho=0.95, epsilon=1e-8, decay=0.0)\n",
    "adam = optimizers.Adam(lr=0.01, beta_1=0.9, beta_2=0.999, epsilon=1e-8, decay=0.0)\n",
    "model.compile(optimizer=\"adam\", loss='mean_squared_error')\n",
    "      \n",
    "his = model.fit(train_x, \n",
    "                train_y, epochs=10,\n",
    "                batch_size=128,\n",
    "                shuffle=True, \n",
    "                callbacks=[reduce_lr,early_stop],validation_data=(val_x,val_y),\n",
    "                verbose=2)\n",
    "model.save_weights('best1_test.hdf5')\n",
    "\n",
    "\n",
    "# predicted_y=model.predict([OH,x2])\n",
    "train_pred_y=model.predict(train_x)\n",
    "test_pred_y=model.predict(test_x)\n",
    "print(np.corrcoef(train_y,train_pred_y.T))\n",
    "print(np.corrcoef(test_y,test_pred_y.T))\n"
   ]
  },
  {
   "cell_type": "code",
   "execution_count": 36,
   "id": "4fdbd2bb-2791-4ec1-8c20-f16ecdde0318",
   "metadata": {},
   "outputs": [],
   "source": [
    "train_dat['predicted_IC50']=train_pred_y\n",
    "test_dat['predicted_IC50']=test_pred_y\n",
    "train_dat.to_csv('train_dat_test.csv')\n",
    "test_dat.to_csv('test_dat_test.csv')"
   ]
  },
  {
   "cell_type": "code",
   "execution_count": 66,
   "id": "b059cdeb-8435-45b7-81d4-58f0b4658971",
   "metadata": {},
   "outputs": [
    {
     "data": {
      "text/plain": [
       "6413"
      ]
     },
     "execution_count": 66,
     "metadata": {},
     "output_type": "execute_result"
    }
   ],
   "source": [
    "len(test_drug_y)"
   ]
  },
  {
   "cell_type": "code",
   "execution_count": null,
   "id": "85e23470-a0f9-441b-afb2-dc6b27c11b46",
   "metadata": {},
   "outputs": [],
   "source": []
  }
 ],
 "metadata": {
  "kernelspec": {
   "display_name": "Python 3 (ipykernel)",
   "language": "python",
   "name": "python3"
  },
  "language_info": {
   "codemirror_mode": {
    "name": "ipython",
    "version": 3
   },
   "file_extension": ".py",
   "mimetype": "text/x-python",
   "name": "python",
   "nbconvert_exporter": "python",
   "pygments_lexer": "ipython3",
   "version": "3.7.11"
  }
 },
 "nbformat": 4,
 "nbformat_minor": 5
}
